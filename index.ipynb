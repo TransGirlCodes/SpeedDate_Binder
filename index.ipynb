{
 "cells": [
  {
   "cell_type": "markdown",
   "metadata": {},
   "source": [
    "# Coalescence time estimates between sequences with SpeedDate and BioJulia"
   ]
  },
  {
   "cell_type": "markdown",
   "metadata": {},
   "source": [
    "## Introduction\n",
    "\n",
    "SpeedDate is the name given to a method of estimating a coalescence time between two DNA sequence regions that was first implemented in the R package [HybridCheck](https://github.com/Ward9250/HybridCheck) in order to date regions of introgression in large sequence contigs. The current SpeedDate is implemented in the [SpeedDate.jl](https://github.com/Ward9250/SpeedDate.jl) package, which depends on [Bio.jl](https://github.com/BioJulia/Bio.jl) for core functionality like the input and output of DNA sequences and data, and computation of mutation counts and genetic distances.\n",
    "\n",
    "## The dating estimation method\n",
    "\n",
    "The coalescence time is estimated using the number of mutations that have occurred between two aligned sequences.\n",
    "The calculation uses a strict molecular clock which assumes a constant substitution rate, both through time and across taxa.\n",
    "\n",
    "Modelling the mutation accumulation process as a Bernoulli trial, the probability of observing $k$ or fewer mutations between two sequences of length $n$ can be given as:\n",
    "\n",
    "\\begin{equation}\n",
    "Pr(X \\le k) = \\sum_{i=0}^{\\lfloor k \\rfloor} \\binom{n}{i} p^i (1 - p)^{n-i}\n",
    "\\end{equation}\n",
    "\n",
    "Where $p$ is the probability of observing a single mutation between the two aligned sequences.\n",
    "The value of $p$ depends on two key factors: the substitution rate and the coalescence time.\n",
    "If you assume a molecular clock, whereby two DNA sequences are both accumulating mutations at a rate $\\mu$ for $t$ generations, then you may define $p = 2\\mu t$.\n",
    "\n",
    "Using these assumptions, the SpeedDate method finds the root of the following formula for $Pr(X \\le k) = 0.05$, $0.5$, and $0.95$, and then divides the three answers by twice the assumed substitution rate.\n",
    "\n",
    "\\begin{equation}\n",
    "f(n, k, 2\\mu t, Pr(X \\le k) = \\left( \\sum_{i=0}^{\\lfloor k \\rfloor} \\binom{n}{i} {2\\mu t}^i (1 - 2\\mu t)^{n-i}   \\right) - Pr(X \\le k)\n",
    "\\end{equation}\n",
    "\n",
    "This results in an upper, middle, and lower estimate of the coalescence time $t$ of the two sequences (expressed as the number of generations).\n",
    "\n",
    "This method has been written into the Phylo module of the flagship package of the BioJulia project, Bio.jl as a function called `coaltime`, and SpeedDate simply bundles the steps of loading data, conting mutations in sequences, and passing that information to `coaltime` easier.\n",
    "\n",
    "SpeedDate can be used in three forms: If you are comfortable downloading your own julia packages, there is a command line interface and a GTK based GUI bundled in [SpeedDate.jl](https://github.com/Ward9250/SpeedDate.jl), but actually since this notebook is hosted using the [Binder](http://mybinder.org/) system, you can use this notebook to use the SpeedDate method right away, no need to install anything new on your computer. \n",
    "\n",
    "## Let's use SpeedDate!\n",
    "\n",
    "**NOTE!** If you modify this notebook and use it with your own data, and want store it for reference or future use, please remember to download it on your own computer, as the online session that you're using is not permanent.\n",
    "\n",
    "With that out of the way, these packages are required to get you going:"
   ]
  },
  {
   "cell_type": "code",
   "execution_count": 2,
   "metadata": {
    "collapsed": false
   },
   "outputs": [],
   "source": [
    "using Reactive, Interact, SpeedDate\n"
   ]
  },
  {
   "cell_type": "code",
   "execution_count": 3,
   "metadata": {
    "collapsed": false
   },
   "outputs": [
    {
     "data": {
      "text/html": [],
      "text/plain": [
       "Interact.Options{:Dropdown,Any}(Signal{Any}(JukesCantor69, nactions=0),\"\",\"JukesCantor69\",\"JukesCantor69\",Interact.OptionDict(Any[\"JukesCantor69\",\"Kimura80\"],Dict{Any,Any}(Pair{Any,Any}(\"JukesCantor69\",\"JukesCantor69\"),Pair{Any,Any}(\"Kimura80\",\"Kimura80\"))),Any[],Any[])"
      ]
     },
     "execution_count": 3,
     "metadata": {},
     "output_type": "execute_result"
    }
   ],
   "source": [
    "## ENTER THE MUTATION MODEL YOU WANT IN THIS DROPDOWN BOX - DEFAULT IS JUKES CANTOR 69.\n",
    "mutation_model = dropdown([\"JukesCantor69\", \"Kimura80\"])"
   ]
  },
  {
   "cell_type": "code",
   "execution_count": 4,
   "metadata": {
    "collapsed": false
   },
   "outputs": [
    {
     "name": "stderr",
     "output_type": "stream",
     "text": [
      "WARNING: utf8(s::AbstractString) is deprecated, use String(s) instead.\n",
      " in depwarn(::String, ::Symbol) at ./deprecated.jl:64\n",
      " in utf8(::String) at ./deprecated.jl:50\n",
      " in #textbox#11(::Array{Any,1}, ::Function, ::String) at /Users/bward/.julia/v0.5/Interact/src/widgets.jl:151\n",
      " in (::Interact.#kw##textbox)(::Array{Any,1}, ::Interact.#textbox, ::String) at ./<missing>:0\n",
      " in include_string(::String, ::String) at ./loading.jl:441\n",
      " in execute_request(::ZMQ.Socket, ::IJulia.Msg) at /Users/bward/.julia/v0.5/IJulia/src/execute_request.jl:169\n",
      " in eventloop(::ZMQ.Socket) at /Users/bward/.julia/v0.5/IJulia/src/eventloop.jl:8\n",
      " in (::IJulia.##9#15)() at ./task.jl:360\n",
      "while loading In[4], in expression starting on line 2\n"
     ]
    },
    {
     "data": {
      "text/html": [],
      "text/plain": [
       "Interact.Textbox{String}(Signal{String}(10e-9, nactions=0),\"Mutation Rate\",nothing,\"10e-9\")"
      ]
     },
     "execution_count": 4,
     "metadata": {},
     "output_type": "execute_result"
    }
   ],
   "source": [
    "## ENTER YOUR ASSUMED MUTATION RATE IN THE BOX BELOW\n",
    "mutation_rate = textbox(\"10e-9\", label = \"Mutation Rate\")"
   ]
  },
  {
   "cell_type": "code",
   "execution_count": 5,
   "metadata": {
    "collapsed": false
   },
   "outputs": [
    {
     "data": {
      "text/html": [],
      "text/plain": [
       "Interact.Checkbox(Signal{Bool}(false, nactions=0),\"Sliding Windows\",false)"
      ]
     },
     "execution_count": 5,
     "metadata": {},
     "output_type": "execute_result"
    }
   ],
   "source": [
    "## WHETHER OR NOT YOU WANT TO USE SLIDING WINDOWS.\n",
    "use_windows = checkbox(false, label = \"Sliding Windows\")"
   ]
  },
  {
   "cell_type": "code",
   "execution_count": 6,
   "metadata": {
    "collapsed": false
   },
   "outputs": [
    {
     "data": {
      "text/html": [],
      "text/plain": [
       "Interact.Textbox{String}(Signal{String}(100, nactions=0),\"Window Size\",nothing,\"100\")"
      ]
     },
     "execution_count": 6,
     "metadata": {},
     "output_type": "execute_result"
    }
   ],
   "source": [
    "## IF YOU ARE USING SLIDING WINDOWS, WHAT IS THE WINDOW SIZE??\n",
    "window_size = textbox(\"100\", label = \"Window Size\")"
   ]
  },
  {
   "cell_type": "code",
   "execution_count": 10,
   "metadata": {
    "collapsed": false
   },
   "outputs": [
    {
     "ename": "LoadError",
     "evalue": "LoadError: UndefVarError: hbox not defined\nwhile loading In[10], in expression starting on line 4",
     "output_type": "error",
     "traceback": [
      "LoadError: UndefVarError: hbox not defined\nwhile loading In[10], in expression starting on line 4",
      ""
     ]
    }
   ],
   "source": [
    "## IF YOU ARE USING SLIDING WINDOWS, WHAT IS THE WINDOW STEP??\n",
    "window_step = textbox(\"100\", label = \"Window Step\")\n",
    "go_button = button(\"Go!\")\n",
    "hbox(window_step, go_button)"
   ]
  },
  {
   "cell_type": "code",
   "execution_count": 8,
   "metadata": {
    "collapsed": false
   },
   "outputs": [
    {
     "data": {
      "text/html": [],
      "text/plain": [
       "Interact.Button{Void}(Signal{Void}(nothing, nactions=0),\"Go!\",nothing)"
      ]
     },
     "execution_count": 8,
     "metadata": {},
     "output_type": "execute_result"
    }
   ],
   "source": [
    "go_button = button(\"Go!\")"
   ]
  }
 ],
 "metadata": {
  "kernelspec": {
   "display_name": "Julia 0.5.1-pre",
   "language": "julia",
   "name": "julia-0.5"
  },
  "language_info": {
   "file_extension": ".jl",
   "mimetype": "application/julia",
   "name": "julia",
   "version": "0.5.1"
  },
  "widgets": {
   "state": {
    "0c25a680-86a3-4a6f-9138-3507d3be8ff4": {
     "views": [
      {
       "cell_index": 6
      }
     ]
    },
    "a9e6b7f9-843f-4e3f-b91c-41a211b841ef": {
     "views": [
      {
       "cell_index": 8
      }
     ]
    },
    "af6d4a20-3334-4331-ad4c-d8cbe0e5280c": {
     "views": [
      {
       "cell_index": 4
      }
     ]
    },
    "b1bfb4ff-8740-4be1-b55c-089a6c1dbccd": {
     "views": [
      {
       "cell_index": 5
      }
     ]
    },
    "d332830e-d246-4c5d-b667-b1e0c21cd942": {
     "views": [
      {
       "cell_index": 3
      }
     ]
    }
   },
   "version": "1.2.0"
  }
 },
 "nbformat": 4,
 "nbformat_minor": 0
}
