{
 "cells": [
  {
   "cell_type": "markdown",
   "metadata": {},
   "source": [
    "# Coalescence time estimates between sequences with SpeedDate and BioJulia"
   ]
  },
  {
   "cell_type": "markdown",
   "metadata": {},
   "source": [
    "## Introduction\n",
    "\n",
    "SpeedDate is the name given to a method of estimating a coalescence time between two DNA sequence regions that was first implemented in the R package [HybridCheck](https://github.com/Ward9250/HybridCheck) in order to date regions of introgression in large sequence contigs. The current SpeedDate is implemented in the [SpeedDate.jl](https://github.com/Ward9250/SpeedDate.jl) package, which depends on [Bio.jl](https://github.com/BioJulia/Bio.jl) for core functionality like the input and output of DNA sequences and data, and computation of mutation counts and genetic distances.\n",
    "\n",
    "## The dating estimation method\n",
    "\n",
    "The coalescence time is estimated using the number of mutations that have occurred between two aligned sequences.\n",
    "The calculation uses a strict molecular clock which assumes a constant substitution rate, both through time and across taxa.\n",
    "\n",
    "Modelling the mutation accumulation process as a Bernoulli trial, the probability of observing $k$ or fewer mutations between two sequences of length $n$ can be given as:\n",
    "\n",
    "\\begin{equation}\n",
    "Pr(X \\le k) = \\sum_{i=0}^{\\lfloor k \\rfloor} \\binom{n}{i} p^i (1 - p)^{n-i}\n",
    "\\end{equation}\n",
    "\n",
    "Where $p$ is the probability of observing a single mutation between the two aligned sequences.\n",
    "The value of $p$ depends on two key factors: the substitution rate and the coalescence time.\n",
    "If you assume a molecular clock, whereby two DNA sequences are both accumulating mutations at a rate $\\mu$ for $t$ generations, then you may define $p = 2\\mu t$.\n",
    "\n",
    "Using these assumptions, the SpeedDate method finds the root of the following formula for $Pr(X \\le k) = 0.05$, $0.5$, and $0.95$, and then divides the three answers by twice the assumed substitution rate.\n",
    "\n",
    "\\begin{equation}\n",
    "f(n, k, 2\\mu t, Pr(X \\le k) = \\left( \\sum_{i=0}^{\\lfloor k \\rfloor} \\binom{n}{i} {2\\mu t}^i (1 - 2\\mu t)^{n-i}   \\right) - Pr(X \\le k)\n",
    "\\end{equation}\n",
    "\n",
    "This results in an upper, middle, and lower estimate of the coalescence time $t$ of the two sequences (expressed as the number of generations).\n",
    "\n",
    "This method has been written into the Phylo module of the flagship package of the BioJulia project, Bio.jl as a function called `coaltime`, and SpeedDate simply bundles the steps of loading data, conting mutations in sequences, and passing that information to `coaltime` easier.\n",
    "\n",
    "SpeedDate can be used in three forms: If you are comfortable downloading your own julia packages, there is a command line interface and a GTK based GUI bundled in [SpeedDate.jl](https://github.com/Ward9250/SpeedDate.jl), but actually since this notebook is hosted using the [Binder](http://mybinder.org/) system, you can use this notebook to use the SpeedDate method right away, no need to install anything new on your computer. \n",
    "\n",
    "## Let's use SpeedDate!\n",
    "\n",
    "**NOTE!** If you modify this notebook and use it with your own data, and want store it for reference or future use, please remember to download it on your own computer, as the online session that you're using is not permanent.\n",
    "\n",
    "With that out of the way, these packages are required to get you going:"
   ]
  },
  {
   "cell_type": "code",
   "execution_count": 1,
   "metadata": {
    "collapsed": false
   },
   "outputs": [
    {
     "data": {
      "text/html": [
       "<div id=\"interact-js-shim\">\n",
       "    <script charset=\"utf-8\">\n",
       "(function (IPython, $, _, MathJax) {\n",
       "    $.event.special.destroyed = {\n",
       "\tremove: function(o) {\n",
       "\t    if (o.handler) {\n",
       "\t\to.handler.apply(this, arguments)\n",
       "\t    }\n",
       "\t}\n",
       "    }\n",
       "\n",
       "    var OutputArea = IPython.version >= \"4.0.0\" ? require(\"notebook/js/outputarea\").OutputArea : IPython.OutputArea;\n",
       "\n",
       "    var redrawValue = function (container, type, val) {\n",
       "\tvar selector = $(\"<div/>\");\n",
       "\tvar oa = new OutputArea(_.extend(selector, {\n",
       "\t    selector: selector,\n",
       "\t    prompt_area: true,\n",
       "\t    events: IPython.events,\n",
       "\t    keyboard_manager: IPython.keyboard_manager\n",
       "\t})); // Hack to work with IPython 2.1.0\n",
       "\n",
       "\tswitch (type) {\n",
       "\tcase \"image/png\":\n",
       "            var _src = 'data:' + type + ';base64,' + val;\n",
       "\t    $(container).find(\"img\").attr('src', _src);\n",
       "\t    break;\n",
       "\tdefault:\n",
       "\t    var toinsert = OutputArea.append_map[type].apply(\n",
       "\t\toa, [val, {}, selector]\n",
       "\t    );\n",
       "\t    $(container).empty().append(toinsert.contents());\n",
       "\t    selector.remove();\n",
       "\t}\n",
       "\tif (type === \"text/latex\" && MathJax) {\n",
       "\t    MathJax.Hub.Queue([\"Typeset\", MathJax.Hub, toinsert.get(0)]);\n",
       "\t}\n",
       "    }\n",
       "\n",
       "\n",
       "    $(document).ready(function() {\n",
       "\tfunction initComm(evt, data) {\n",
       "\t    var comm_manager = data.kernel.comm_manager;\n",
       "        //_.extend(comm_manager.targets, require(\"widgets/js/widget\"))\n",
       "\t    comm_manager.register_target(\"Signal\", function (comm) {\n",
       "            comm.on_msg(function (msg) {\n",
       "                //Widgets.log(\"message received\", msg);\n",
       "                var val = msg.content.data.value;\n",
       "                $(\".signal-\" + comm.comm_id).each(function() {\n",
       "                var type = $(this).data(\"type\");\n",
       "                if (val[type]) {\n",
       "                    redrawValue(this, type, val[type], type);\n",
       "                }\n",
       "                });\n",
       "                delete val;\n",
       "                delete msg.content.data.value;\n",
       "            });\n",
       "\t    });\n",
       "\n",
       "\t    // coordingate with Comm and redraw Signals\n",
       "\t    // XXX: Test using Reactive here to improve performance\n",
       "\t    $([IPython.events]).on(\n",
       "\t\t'output_appended.OutputArea', function (event, type, value, md, toinsert) {\n",
       "\t\t    if (md && md.reactive) {\n",
       "                // console.log(md.comm_id);\n",
       "                toinsert.addClass(\"signal-\" + md.comm_id);\n",
       "                toinsert.data(\"type\", type);\n",
       "                // Signal back indicating the mimetype required\n",
       "                var comm_manager = IPython.notebook.kernel.comm_manager;\n",
       "                var comm = comm_manager.comms[md.comm_id];\n",
       "                comm.then(function (c) {\n",
       "                    c.send({action: \"subscribe_mime\",\n",
       "                       mime: type});\n",
       "                    toinsert.bind(\"destroyed\", function() {\n",
       "                        c.send({action: \"unsubscribe_mime\",\n",
       "                               mime: type});\n",
       "                    });\n",
       "                })\n",
       "\t\t    }\n",
       "\t    });\n",
       "\t}\n",
       "\n",
       "\ttry {\n",
       "\t    // try to initialize right away. otherwise, wait on the status_started event.\n",
       "\t    initComm(undefined, IPython.notebook);\n",
       "\t} catch (e) {\n",
       "\t    $([IPython.events]).on('kernel_created.Kernel kernel_created.Session', initComm);\n",
       "\t}\n",
       "    });\n",
       "})(IPython, jQuery, _, MathJax);\n",
       "</script>\n",
       "    <script>\n",
       "        window.interactLoadedFlag = true\n",
       "       $(\"#interact-js-shim\").bind(\"destroyed\", function () {\n",
       "           if (window.interactLoadedFlag) {\n",
       "               console.warn(\"JavaScript required by Interact will be removed if you remove this cell or run using Interact more than once.\")\n",
       "           }\n",
       "       })\n",
       "       $([IPython.events]).on(\"kernel_starting.Kernel kernel_restarting.Kernel\", function () { window.interactLoadedFlag = false })\n",
       "   </script>\n",
       "</div>"
      ]
     },
     "metadata": {},
     "output_type": "display_data"
    }
   ],
   "source": [
    "using Reactive, Interact, SpeedDate\n"
   ]
  },
  {
   "cell_type": "code",
   "execution_count": 9,
   "metadata": {
    "collapsed": false
   },
   "outputs": [
    {
     "data": {
      "text/html": [],
      "text/plain": [
       "Interact.Options{:Dropdown,Any}(Signal{Any}(JukesCantor69, nactions=0),\"\",\"JukesCantor69\",\"JukesCantor69\",Interact.OptionDict(Any[\"JukesCantor69\",\"Kimura80\"],Dict{Any,Any}(Pair{Any,Any}(\"JukesCantor69\",\"JukesCantor69\"),Pair{Any,Any}(\"Kimura80\",\"Kimura80\"))),Any[],Any[])"
      ]
     },
     "execution_count": 9,
     "metadata": {},
     "output_type": "execute_result"
    }
   ],
   "source": [
    "## ENTER THE MUTATION MODEL YOU WANT IN THIS DROPDOWN BOX - DEFAULT IS JUKES CANTOR 69.\n",
    "mutation_model = dropdown([\"JukesCantor69\", \"Kimura80\"])"
   ]
  },
  {
   "cell_type": "code",
   "execution_count": 15,
   "metadata": {
    "collapsed": false
   },
   "outputs": [
    {
     "data": {
      "text/html": [],
      "text/plain": [
       "Interact.Textbox{String}(Signal{String}(10e-9, nactions=0),\"Mutation Rate\",nothing,\"10e-9\")"
      ]
     },
     "execution_count": 15,
     "metadata": {},
     "output_type": "execute_result"
    }
   ],
   "source": [
    "## ENTER YOUR ASSUMED MUTATION RATE IN THE BOX BELOW\n",
    "mutation_rate = textbox(\"10e-9\", label = \"Mutation Rate\")"
   ]
  },
  {
   "cell_type": "code",
   "execution_count": 14,
   "metadata": {
    "collapsed": false
   },
   "outputs": [
    {
     "data": {
      "text/html": [],
      "text/plain": [
       "Interact.Checkbox(Signal{Bool}(false, nactions=0),\"Sliding Windows\",false)"
      ]
     },
     "execution_count": 14,
     "metadata": {},
     "output_type": "execute_result"
    }
   ],
   "source": [
    "## WHETHER OR NOT YOU WANT TO USE SLIDING WINDOWS.\n",
    "use_windows = checkbox(false, label = \"Sliding Windows\")"
   ]
  },
  {
   "cell_type": "code",
   "execution_count": 16,
   "metadata": {
    "collapsed": false
   },
   "outputs": [
    {
     "data": {
      "text/html": [],
      "text/plain": [
       "Interact.Textbox{String}(Signal{String}(100, nactions=0),\"Window Size\",nothing,\"100\")"
      ]
     },
     "execution_count": 16,
     "metadata": {},
     "output_type": "execute_result"
    }
   ],
   "source": [
    "## IF YOU ARE USING SLIDING WINDOWS, WHAT IS THE WINDOW SIZE??\n",
    "window_size = textbox(\"100\", label = \"Window Size\")"
   ]
  },
  {
   "cell_type": "code",
   "execution_count": 17,
   "metadata": {
    "collapsed": false
   },
   "outputs": [
    {
     "data": {
      "text/html": [],
      "text/plain": [
       "Interact.Textbox{String}(Signal{String}(100, nactions=0),\"Window Step\",nothing,\"100\")"
      ]
     },
     "execution_count": 17,
     "metadata": {},
     "output_type": "execute_result"
    }
   ],
   "source": [
    "## IF YOU ARE USING SLIDING WINDOWS, WHAT IS THE WINDOW STEP??\n",
    "window_step = textbox(\"100\", label = \"Window Step\")"
   ]
  },
  {
   "cell_type": "code",
   "execution_count": null,
   "metadata": {
    "collapsed": true
   },
   "outputs": [],
   "source": []
  }
 ],
 "metadata": {
  "kernelspec": {
   "display_name": "Julia 0.5.1-pre",
   "language": "julia",
   "name": "julia-0.5"
  },
  "language_info": {
   "file_extension": ".jl",
   "mimetype": "application/julia",
   "name": "julia",
   "version": "0.5.1"
  },
  "widgets": {
   "state": {
    "031b1a35-e8bb-46e9-83c1-d4f9afb4e949": {
     "views": [
      {
       "cell_index": 7
      }
     ]
    },
    "7f53446c-2dde-4dba-a68e-ba8e8c29ede9": {
     "views": [
      {
       "cell_index": 4
      }
     ]
    },
    "96d82f88-f826-496a-81d2-2dad86760119": {
     "views": [
      {
       "cell_index": 4
      }
     ]
    },
    "b61a4d7d-909d-47da-a03f-cede147dd245": {
     "views": [
      {
       "cell_index": 6
      }
     ]
    },
    "bf7b7a24-8076-4596-88b2-3a9339347e5d": {
     "views": [
      {
       "cell_index": 6
      }
     ]
    }
   },
   "version": "1.2.0"
  }
 },
 "nbformat": 4,
 "nbformat_minor": 0
}
